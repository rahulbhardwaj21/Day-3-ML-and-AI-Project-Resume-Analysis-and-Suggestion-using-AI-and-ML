{
  "nbformat": 4,
  "nbformat_minor": 0,
  "metadata": {
    "colab": {
      "provenance": []
    },
    "kernelspec": {
      "name": "python3",
      "display_name": "Python 3"
    },
    "language_info": {
      "name": "python"
    }
  },
  "cells": [
    {
      "cell_type": "code",
      "execution_count": null,
      "metadata": {
        "colab": {
          "base_uri": "https://localhost:8080/"
        },
        "id": "tYpPPHANVSH_",
        "outputId": "11f6c940-a732-420c-96e7-856ee81872b4"
      },
      "outputs": [
        {
          "output_type": "stream",
          "name": "stdout",
          "text": [
            "Requirement already satisfied: PyPDF2 in /usr/local/lib/python3.10/dist-packages (3.0.1)\n"
          ]
        }
      ],
      "source": [
        "!pip install PyPDF2"
      ]
    },
    {
      "cell_type": "code",
      "source": [
        "#(API Key)"
      ],
      "metadata": {
        "id": "Qkj8pD5iXJh-"
      },
      "execution_count": null,
      "outputs": []
    },
    {
      "cell_type": "code",
      "source": [
        "import google.generativeai as genai\n",
        "import PyPDF2 as pdf\n",
        "import json\n"
      ],
      "metadata": {
        "id": "iB6SolXNXPRq"
      },
      "execution_count": null,
      "outputs": []
    },
    {
      "cell_type": "code",
      "source": [
        "genai.configure(api_key = \"Your API Key\")\n"
      ],
      "metadata": {
        "id": "gikFfcgqYFa7"
      },
      "execution_count": null,
      "outputs": []
    },
    {
      "cell_type": "code",
      "source": [
        "def get_gemini_response(input):\n",
        "  model=genai.GenerativeModel('gemini-pro')\n",
        "  response=model.generate_content(input)\n",
        "  return response.text\n",
        "\n",
        "def input_pdf_text(uploaded_file):\n",
        "  reader=pdf.PdfReader(uploaded_file)\n",
        "  text=\"\"\n",
        "  for page in range(len(reader.pages)):\n",
        "    page=reader.pages[page]\n",
        "    text+=str(page.extract_text())\n",
        "  return text"
      ],
      "metadata": {
        "id": "5DDXAHbuYVWv"
      },
      "execution_count": null,
      "outputs": []
    },
    {
      "cell_type": "code",
      "source": [
        "def build_prompt(text, jd):\n",
        "  input_prompt=f\"\"\"\n",
        "  Hello Act Like a very skilled or very experience Resume Reviewer\n",
        "  with a deep understanding of tech field,software engineering,data science ,data analyst\n",
        "  and big data engineer. Your task is to evaluate the resume based on the given job description.\n",
        "  You must consider the job market is very competitive and you should provide\n",
        "  best assistance for improving the resumes. Assign the percentage Matching based\n",
        "  on JD and a summary of the resume profile and\n",
        "  the suggestions to improve the resume with high accuracy\n",
        "  resume:{text}\n",
        "  description:{jd}\n",
        "  I want the response in one single string having the structure {{\"JD Match\":\"%\",\"Profile Summary\":\"\", \"Suggestions:[]\"}} \"\"\"\n",
        "  return input_prompt"
      ],
      "metadata": {
        "id": "9GIKPBswZHnK"
      },
      "execution_count": null,
      "outputs": []
    },
    {
      "cell_type": "code",
      "source": [
        "text=input_pdf_text(\"/content/Resume_Dummy.pdf\")"
      ],
      "metadata": {
        "id": "TP-Lkl5CajpA"
      },
      "execution_count": null,
      "outputs": []
    },
    {
      "cell_type": "code",
      "source": [
        "jd = input(\"Enter the Job Description\")"
      ],
      "metadata": {
        "colab": {
          "base_uri": "https://localhost:8080/"
        },
        "id": "sv3hw1D0bFYX",
        "outputId": "ba2195bc-de6b-4bd7-8033-3c212960c551"
      },
      "execution_count": null,
      "outputs": [
        {
          "name": "stdout",
          "output_type": "stream",
          "text": [
            "Enter the Job DescriptionSkilled and passionate GenAI Prompt Engineer to join our Customer Experience Analytics team. The ideal candidate will be responsible for designing inputs for AI tools that produce optimal outputs, with a focus on improving customer experience through data-driven insights and innovative product development.   Design and develop prompts for various applications, including text generation, translation, question answering, and creative writing. Collaborate with cross-functional teams to understand user needs and translate them into effective prompts. Analyze and iterate on prompts based on performance metrics and user feedback to ensure high-quality outputs. Conduct experiments and research to test new prompting techniques and optimize existing workflows. Stay up to date on the latest advancements in natural language processing (NLP) and AI and apply those insights to your work. Document and communicate your work clearly and concisely to technical and non-technical audiences. Support business, operations, and leadership by providing actionable insights derived from AI-generated prompts. Assist in the development of customer-facing products aimed at enhancing the quality of virtual assistant interactions with customers. Focus on improving Turnaround Time on report development and dissemination of important insights. Contribute to FedEx's digital adoption strategy by leveraging AI technologies to reduce customer calls and enhance self-service capabilities. Continuously evaluate and refine AI prompt designs to optimize performance and customer satisfaction.   Qualifications:  Min. experience: 4+ years Bachelor’s degree in computer science, linguistics, writing, or a related field. Proficiency in programming languages such as Python and experience with relevant libraries and frameworks. At least 2 years of proven experience in prompt engineering or a related role in the AI and Chatbots domain Strong analytical skills with the ability to translate complex data into actionable insights. Experience working with large datasets and data visualization tools. Excellent communication and collaboration skills. Ability to thrive in a fast-paced, dynamic environment and adapt to changing priorities.\n"
          ]
        }
      ]
    },
    {
      "cell_type": "code",
      "source": [
        "input_prompt = build_prompt(text, jd)"
      ],
      "metadata": {
        "id": "6v6ESrbVbmKk"
      },
      "execution_count": null,
      "outputs": []
    },
    {
      "cell_type": "code",
      "source": [
        "response=get_gemini_response(input_prompt)\n",
        "response=get_gemini_response(input_prompt)\n",
        "response = json.loads(response)"
      ],
      "metadata": {
        "id": "5G88mx9bcJ7m"
      },
      "execution_count": null,
      "outputs": []
    },
    {
      "cell_type": "code",
      "source": [
        "import textwrap\n",
        "\n",
        "def add_newlines(text):\n",
        " sentences = text.split('. ')\n",
        " return '.\\n'.join(sentences) + '.\\n'\n",
        "\n",
        "def print_response(response):\n",
        " print(\"JD Match: {}\\n\".format(response[\"JD Match\"]))\n",
        " print(\"Profile Summary:\\n{}\\n\".format(add_newlines(response[\"Profile Summary\"])))\n",
        " print(\"Suggestions:\")\n",
        " for suggestion in response[\"Suggestions\"]:\n",
        "  print(\"- {}\".format(add_newlines(suggestion)))\n",
        "print_response(response)"
      ],
      "metadata": {
        "colab": {
          "base_uri": "https://localhost:8080/"
        },
        "id": "SiK7MUhlcUOl",
        "outputId": "51994ea4-2c20-4133-c564-33f0abb84b26"
      },
      "execution_count": null,
      "outputs": [
        {
          "output_type": "stream",
          "name": "stdout",
          "text": [
            "JD Match: 60%\n",
            "\n",
            "Profile Summary:\n",
            "The candidate holds a Master's degree in CSE and a B.Tech degree in Mechanical Engineering.\n",
            " They have experience as an Assistant Systems Engineer at Tata Consultancy Services.\n",
            " They have experience in developing event management tools using AngularJS and Spring Boot.\n",
            " They have also worked on optimizing patrolling routes for emergency police vehicles using Q-Learning algorithm.\n",
            "Additionally, they have worked on developing a system using Deep Neural Networks to rank database images based on a given input image, a Sudoku generator and solver using Scala and Z3, and an asynchronous RPC model for interprocess communication.\n",
            "They have also designed a NLP system to detect fake news in social networking sites using LSTM network, and implemented a machine learning model on a dataset of images using Principal Component Analysis (PCA).\n",
            "The profile is moderately relevant to the job description, highlighting skills in programming languages, software and libraries, and OS and databases..\n",
            "\n",
            "\n",
            "Suggestions:\n",
            "- Highlight skills and experience in prompt engineering and AI tools in the resume summary.\n",
            "Quantify achievements and provide specific examples of projects or initiatives where you successfully applied prompt engineering techniques.\n",
            "Showcase experience in designing and developing prompts for various AI applications, including text generation, translation, question answering, and creative writing.\n",
            "Emphasize your ability to analyze and iterate on prompts based on performance metrics and user feedback.\n",
            "Highlight your knowledge of natural language processing (NLP) and AI, and experience in translating user needs into effective prompts.\n",
            "Provide examples of how you have used AI-generated prompts to drive actionable insights and improve customer experience.\n",
            "Mention experience in working with large datasets and data visualization tools, as this is relevant to the role's requirement for analyzing and interpreting data.\n",
            "Include any relevant certifications or training programs in prompt engineering or AI..\n",
            "\n"
          ]
        }
      ]
    },
    {
      "cell_type": "code",
      "source": [],
      "metadata": {
        "id": "4G94aeAgc-RW"
      },
      "execution_count": null,
      "outputs": []
    }
  ]
}